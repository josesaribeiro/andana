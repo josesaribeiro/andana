{
 "cells": [
  {
   "cell_type": "code",
   "execution_count": 44,
   "metadata": {},
   "outputs": [],
   "source": [
    "import pandas as pd\n",
    "from airflow import DAG\n",
    "from airflow.operators.bash_operator import BashOperator\n",
    "import requests"
   ]
  },
  {
   "cell_type": "code",
   "execution_count": 9,
   "metadata": {},
   "outputs": [],
   "source": [
    "# ?DAG\n",
    "my_dag = DAG(\n",
    "    dag_id = 'mydag',\n",
    "    description = 'A DAG with which to test regression',\n",
    ")"
   ]
  },
  {
   "cell_type": "code",
   "execution_count": 34,
   "metadata": {},
   "outputs": [],
   "source": [
    "k = bash.BashOperator(bash_command='pwd', task_id='test')"
   ]
  },
  {
   "cell_type": "code",
   "execution_count": null,
   "metadata": {},
   "outputs": [],
   "source": [
    "df = pd.read_fwf('http://archive.ics.uci.edu/ml/machine-learning-databases/auto-mpg/auto-mpg.data', header=None)"
   ]
  },
  {
   "cell_type": "code",
   "execution_count": 39,
   "metadata": {},
   "outputs": [],
   "source": [
    "# The DAG object; we'll need this to instantiate a DAG\n",
    "from airflow import DAG\n",
    "\n",
    "# Operators; we need this to operate!\n",
    "from airflow.operators.bash_operator import BashOperator"
   ]
  },
  {
   "cell_type": "code",
   "execution_count": 43,
   "metadata": {},
   "outputs": [],
   "source": [
    "from datetime import datetime, timedelta\n",
    "\n",
    "default_args = {\n",
    "    'owner': 'airflow',\n",
    "    'depends_on_past': False,\n",
    "    'start_date': datetime.today(),\n",
    "    'email': ['narrative.wrangler@gmail.com'],\n",
    "    'email_on_failure': False,\n",
    "    'email_on_retry': False,\n",
    "    'retries': 1,\n",
    "    'retry_delay': timedelta(seconds=2),\n",
    "    # 'queue': 'bash_queue',\n",
    "    # 'pool': 'backfill',\n",
    "    # 'priority_weight': 10,\n",
    "    # 'end_date': datetime(2016, 1, 1),\n",
    "}\n",
    "dag = DAG(\n",
    "    'tutorial', default_args=default_args )"
   ]
  },
  {
   "cell_type": "code",
   "execution_count": 51,
   "metadata": {},
   "outputs": [],
   "source": [
    "t1 = BashOperator(\n",
    "    task_id = 'set_path',\n",
    "    bash_command = 'cd /home/brute/Dropbox/Writing/Blog/andana/assets/misc/',\n",
    "    dag = dag\n",
    "    )\n",
    "\n",
    "t2 = BashOperator(\n",
    "    task_id = 'get_data',\n",
    "    bash_command = 'wget http://archive.ics.uci.edu/ml/machine-learning-databases/auto-mpg/auto-mpg.data',\n",
    "    retries = 3,\n",
    "    dag = dag)\n",
    "\n",
    "t3 = BashOperator(\n",
    "    task_id = 'run_regression',\n",
    "    bash_command = \"python regress.py\",\n",
    "    retries = 3,\n",
    "    dag = dag\n",
    "    )\n",
    "\n",
    "t4 = BashOperator(\n",
    "    task_id = 'print_results',\n",
    "    bash_command = \"cat results.csv\",\n",
    "    retries = 3,\n",
    "    dag = dag\n",
    "    )"
   ]
  },
  {
   "cell_type": "code",
   "execution_count": 52,
   "metadata": {},
   "outputs": [],
   "source": [
    "t1.set_downstream(t2)\n",
    "t2.set_downstream(t3)\n",
    "t3.set_downstream(t4)\n",
    "# t2.set_upstream(t1)"
   ]
  },
  {
   "cell_type": "code",
   "execution_count": 1,
   "metadata": {},
   "outputs": [],
   "source": [
    "from airflow import DAG\n",
    "from airflow.operators.bash_operator import BashOperator\n",
    "from datetime import datetime, timedelta\n",
    "\n",
    "default_args = {\n",
    "    'owner': 'airflow',\n",
    "    'depends_on_past': False,\n",
    "    'start_date': datetime.today(),\n",
    "    'execution_date': datetime.today(),\n",
    "    'email': ['narrative.wrangler@gmail.com'],\n",
    "    'email_on_failure': False,\n",
    "    'email_on_retry': False,\n",
    "    'retries': 1,\n",
    "    'retry_delay': timedelta(seconds=2),\n",
    "    # 'queue': 'bash_queue',\n",
    "    # 'pool': 'backfill',\n",
    "    # 'priority_weight': 10,\n",
    "    # 'end_date': datetime(2016, 1, 1),\n",
    "}\n",
    "dag = DAG(\n",
    "    'seashells', default_args=default_args )\n",
    "\n",
    "t2 = BashOperator(\n",
    "    task_id = 'get_data',\n",
    "    bash_command = 'cd ~/ && wget http://archive.ics.uci.edu/ml/machine-learning-databases/auto-mpg/auto-mpg.data',\n",
    "    retries = 3,\n",
    "    dag = dag)\n",
    "\n",
    "t3 = BashOperator(\n",
    "    task_id = 'run_regression',\n",
    "    bash_command = \"conda activate airflow && python ~/regress.py\",\n",
    "    retries = 3,\n",
    "    dag = dag\n",
    "    )\n",
    "\n",
    "t4 = BashOperator(\n",
    "    task_id = 'print_results',\n",
    "    bash_command = \"cat ~/results.csv\",\n",
    "    retries = 3,\n",
    "    dag = dag\n",
    "    )\n",
    "\n",
    "t2.set_downstream(t3)\n",
    "t3.set_downstream(t4)"
   ]
  },
  {
   "cell_type": "code",
   "execution_count": 2,
   "metadata": {},
   "outputs": [],
   "source": [
    "from airflow import DAG\n",
    "from airflow.operators.bash_operator import BashOperator\n",
    "from datetime import datetime, timedelta\n",
    "\n",
    "default_args = {\n",
    "    'owner': 'airflow',\n",
    "    'depends_on_past': False,\n",
    "    'start_date': datetime.today(),\n",
    "    'execution_date': datetime.today(),\n",
    "    'email_on_failure': False,\n",
    "    'email_on_retry': False,\n",
    "    'retries': 1,\n",
    "    'retry_delay': timedelta(seconds=2),\n",
    "}\n",
    "dag = DAG(\n",
    "    'first_test', default_args=default_args )\n",
    "\n",
    "t2 = BashOperator(\n",
    "    task_id = 'get_data',\n",
    "    bash_command = 'cd ~/ && wget http://archive.ics.uci.edu/ml/machine-learning-databases/auto-mpg/auto-mpg.data',\n",
    "    retries = 3,\n",
    "    dag = dag)\n",
    "\n",
    "t3 = BashOperator(\n",
    "    task_id = 'run_regression',\n",
    "    bash_command = \"python ~/regress.py\",\n",
    "    retries = 3,\n",
    "    dag = dag\n",
    "    )\n",
    "\n",
    "t4 = BashOperator(\n",
    "    task_id = 'print_results',\n",
    "    bash_command = \"cat ~/results.csv\",\n",
    "    retries = 3,\n",
    "    dag = dag\n",
    "    )\n",
    "\n",
    "t2.set_downstream(t3)\n",
    "t3.set_downstream(t4)"
   ]
  }
 ],
 "metadata": {
  "kernelspec": {
   "display_name": "Python 3",
   "language": "python",
   "name": "python3"
  },
  "language_info": {
   "codemirror_mode": {
    "name": "ipython",
    "version": 3
   },
   "file_extension": ".py",
   "mimetype": "text/x-python",
   "name": "python",
   "nbconvert_exporter": "python",
   "pygments_lexer": "ipython3",
   "version": "3.6.6"
  }
 },
 "nbformat": 4,
 "nbformat_minor": 2
}
